{
 "cells": [
  {
   "cell_type": "markdown",
   "id": "08e46307",
   "metadata": {},
   "source": [
    "# A notebook about methods, classes, objects\n",
    "\n",
    "First thing, we'll create a simple method for subtraction"
   ]
  },
  {
   "cell_type": "code",
   "execution_count": null,
   "id": "64fc607c",
   "metadata": {},
   "outputs": [],
   "source": [
    "def subtract(arg1, arg2, subtractor=3):\n",
    "    return arg1-arg2\n",
    "\n",
    "print(subtract(3, 4))"
   ]
  },
  {
   "cell_type": "markdown",
   "id": "80c91603",
   "metadata": {},
   "source": [
    "### Palindromic numbers\n",
    "What are palindromes? They come from language, where a word is the same forward and backward, e.g. \"mom\"\n",
    "\n",
    "An example palindromic number is 181, 111, 272, ...\n",
    "\n",
    "Let's create a function that finds and lists all palindromic numbers of a certain length (certain number of digits)."
   ]
  },
  {
   "cell_type": "code",
   "execution_count": null,
   "id": "fd5a48d6",
   "metadata": {},
   "outputs": [],
   "source": [
    "def palindrome(number):\n",
    "    numerals = [int(num) for num in str(number)]\n",
    "    is_palindrome = False\n",
    "    for idx in range(int(0.5*len(numerals))+1):\n",
    "        if numerals[idx] == numerals[len(numerals)-idx-1]:\n",
    "            is_palindrome = True\n",
    "            continue\n",
    "        else:\n",
    "            is_palindrome = False\n",
    "            break\n",
    "    return is_palindrome\n",
    "\n",
    "def find_palindromes(num_digits):\n",
    "    list_pal = []\n",
    "    for num in range(10**(num_digits-1), 10**num_digits):\n",
    "        if palindrome(num):\n",
    "            list_pal.append(num)\n",
    "            \n",
    "    return list_pal\n",
    "\n",
    "list1 = find_palindromes(4)\n",
    "print(list1)\n",
    "    "
   ]
  },
  {
   "cell_type": "code",
   "execution_count": null,
   "id": "a2fce3b4",
   "metadata": {},
   "outputs": [],
   "source": [
    "a = [1, 2, 3]\n",
    "type(a)\n",
    "dir(a)"
   ]
  },
  {
   "cell_type": "code",
   "execution_count": null,
   "id": "bb198f88",
   "metadata": {},
   "outputs": [],
   "source": [
    "a.__ceil__()\n",
    "ceil(a)"
   ]
  },
  {
   "cell_type": "code",
   "execution_count": null,
   "id": "305a29fd",
   "metadata": {},
   "outputs": [],
   "source": [
    "tol2 = 1e-3\n",
    "def compare_nums(num1, num2, tol=1e-4):\n",
    "    if abs(num1 - num2) < tol:\n",
    "        return True\n",
    "    else:\n",
    "        return False"
   ]
  },
  {
   "cell_type": "code",
   "execution_count": null,
   "id": "46e8d18b",
   "metadata": {},
   "outputs": [],
   "source": [
    "compare_nums(1.0000001,1.0)"
   ]
  },
  {
   "cell_type": "code",
   "execution_count": null,
   "id": "17edd9b0",
   "metadata": {},
   "outputs": [],
   "source": [
    "mat1 = [[1,0,1],[1,2,1],[2,2,2]]\n",
    "mat2 = [[1,2,1],[3,1,2],[2,3,4]]\n",
    "\n",
    "def add(mat1, mat2):\n",
    "#     new_mat = [[ m1 + m2 for m1, m2 in zip(mat1_row, mat2_row)]for mat1_row, mat2_row in zip(mat1, mat2)]\n",
    "    new_mat = []\n",
    "    for mat1_row, mat2_row in zip(mat1, mat2):\n",
    "        new_mat_row = []\n",
    "        for m1, m2 in zip(mat1_row, mat2_row):\n",
    "            new_mat_row.append(m1+m2)\n",
    "        new_mat.append(new_mat_row)\n",
    "    return new_mat"
   ]
  },
  {
   "cell_type": "code",
   "execution_count": null,
   "id": "99b85067",
   "metadata": {},
   "outputs": [],
   "source": [
    "add(mat1, mat2)"
   ]
  },
  {
   "cell_type": "code",
   "execution_count": null,
   "id": "97223b5d",
   "metadata": {},
   "outputs": [],
   "source": [
    "class Matrix:\n",
    "    def __init__(self, mat_other):\n",
    "        self.mat_list = mat_other\n",
    "\n",
    "    def __add__(self, Mat_obj):\n",
    "        new_mat = []\n",
    "        for mat1_row, mat2_row in zip(self.mat_list, Mat_obj.mat_list):\n",
    "            new_mat_row = []\n",
    "            for m1, m2 in zip(mat1_row, mat2_row):\n",
    "                new_mat_row.append(m1+m2)\n",
    "            new_mat.append(new_mat_row)\n",
    "        #self.mat_list = new_mat\n",
    "        return new_mat #self.mat_list\n",
    "    \n",
    "    def __getitem__(self, index):\n",
    "        return self.mat_list[index[0]][index[1]]\n",
    "    \n",
    "    def __repr__(self):\n",
    "        string1 = \"\"\n",
    "        for mat_row in self.mat_list:\n",
    "            for m in mat_row:\n",
    "                string1 += str(m)+\"\\t\"\n",
    "            string1 += '\\n'\n",
    "        return string1\n",
    "    \n",
    "    def __mul__(self, Mat_obj):\n",
    "        new_mat = []\n",
    "        for mat1_row, mat2_row in zip(self.mat_list, Mat_obj.mat_list):\n",
    "            new_mat_row = []\n",
    "            for m1, m2 in zip(mat1_row, mat2_row):\n",
    "                new_mat_row.append(m1*m2)\n",
    "            new_mat.append(new_mat_row)\n",
    "        #self.mat_list = new_mat\n",
    "        return new_mat #self.mat_list\n",
    "    \n",
    "    def multiply(self, Mat_obj):\n",
    "        new_mat = []\n",
    "        for mat1_row, mat2_row in zip(self.mat_list, Mat_obj.mat_list):\n",
    "            new_mat_row = []\n",
    "            for m1, m2 in zip(mat1_row, mat2_row):\n",
    "                new_mat_row.append(2*m1*m2)\n",
    "            new_mat.append(new_mat_row)\n",
    "        #self.mat_list = new_mat\n",
    "        return new_mat #self.mat_list\n",
    "    \n",
    "    "
   ]
  },
  {
   "cell_type": "code",
   "execution_count": null,
   "id": "a30f562a",
   "metadata": {},
   "outputs": [],
   "source": [
    "mat1_obj = Matrix(mat1)\n",
    "mat2_obj = Matrix(mat2)"
   ]
  },
  {
   "cell_type": "code",
   "execution_count": null,
   "id": "155ee348",
   "metadata": {},
   "outputs": [],
   "source": [
    "mat1_obj.__add__(mat2_obj)"
   ]
  },
  {
   "cell_type": "code",
   "execution_count": null,
   "id": "98d0400e",
   "metadata": {},
   "outputs": [],
   "source": [
    "mat1_obj + mat2_obj"
   ]
  },
  {
   "cell_type": "code",
   "execution_count": null,
   "id": "b02d8212",
   "metadata": {},
   "outputs": [],
   "source": [
    "mat1_obj[1,2]"
   ]
  },
  {
   "cell_type": "code",
   "execution_count": null,
   "id": "a4fa63c2",
   "metadata": {},
   "outputs": [],
   "source": [
    "mat1[1][2]"
   ]
  },
  {
   "cell_type": "code",
   "execution_count": null,
   "id": "e2587070",
   "metadata": {},
   "outputs": [],
   "source": [
    "mat1_obj.multiply(mat2_obj)"
   ]
  },
  {
   "cell_type": "code",
   "execution_count": null,
   "id": "e94e5925",
   "metadata": {},
   "outputs": [],
   "source": [
    "mat1_obj * mat2_obj"
   ]
  },
  {
   "cell_type": "code",
   "execution_count": null,
   "id": "574b90c0",
   "metadata": {},
   "outputs": [],
   "source": [
    "mat1_obj.__mul__(mat2_obj)"
   ]
  },
  {
   "cell_type": "code",
   "execution_count": null,
   "id": "3c77c887",
   "metadata": {},
   "outputs": [],
   "source": [
    "try12 = mat1_obj + mat2_obj"
   ]
  },
  {
   "cell_type": "code",
   "execution_count": null,
   "id": "40f91bcc",
   "metadata": {},
   "outputs": [],
   "source": [
    "print(try12)"
   ]
  },
  {
   "cell_type": "code",
   "execution_count": null,
   "id": "5fd2200d",
   "metadata": {},
   "outputs": [],
   "source": [
    "print(type(int))"
   ]
  },
  {
   "cell_type": "code",
   "execution_count": null,
   "id": "e80010ac",
   "metadata": {},
   "outputs": [],
   "source": [
    "dir(int)"
   ]
  },
  {
   "cell_type": "code",
   "execution_count": null,
   "id": "47b6987d",
   "metadata": {},
   "outputs": [],
   "source": [
    "x = 10"
   ]
  },
  {
   "cell_type": "code",
   "execution_count": null,
   "id": "528e21dd",
   "metadata": {},
   "outputs": [],
   "source": [
    "x.__repr__()"
   ]
  },
  {
   "cell_type": "code",
   "execution_count": null,
   "id": "c7a5225b",
   "metadata": {},
   "outputs": [],
   "source": [
    "print(x)"
   ]
  },
  {
   "cell_type": "code",
   "execution_count": null,
   "id": "07f44676",
   "metadata": {},
   "outputs": [],
   "source": [
    "str(x)"
   ]
  },
  {
   "cell_type": "code",
   "execution_count": null,
   "id": "cf4fb3c4",
   "metadata": {},
   "outputs": [],
   "source": []
  }
 ],
 "metadata": {
  "kernelspec": {
   "display_name": "Python 3",
   "language": "python",
   "name": "python3"
  },
  "language_info": {
   "codemirror_mode": {
    "name": "ipython",
    "version": 3
   },
   "file_extension": ".py",
   "mimetype": "text/x-python",
   "name": "python",
   "nbconvert_exporter": "python",
   "pygments_lexer": "ipython3",
   "version": "3.9.16"
  }
 },
 "nbformat": 4,
 "nbformat_minor": 5
}
