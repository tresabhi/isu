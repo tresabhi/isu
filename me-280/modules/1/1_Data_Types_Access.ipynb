{
 "cells": [
  {
   "cell_type": "markdown",
   "id": "c6e816a6",
   "metadata": {},
   "source": [
    "# A short Jupyter notebook dealing with:\n",
    "\n",
    "- Data structures\n",
    "- Accessing these structures\n",
    "- Loop syntax\n",
    "- Enumerated lists\n",
    "- ...\n"
   ]
  },
  {
   "cell_type": "markdown",
   "id": "02462d1a",
   "metadata": {},
   "source": [
    "Our first python code!\n"
   ]
  },
  {
   "cell_type": "code",
   "execution_count": 132,
   "id": "c568d3c8",
   "metadata": {},
   "outputs": [
    {
     "name": "stdout",
     "output_type": "stream",
     "text": [
      "Why did I move here? I guess it was the snakes.\n"
     ]
    }
   ],
   "source": [
    "print(\"Why did I move here? I guess it was the snakes.\")"
   ]
  },
  {
   "cell_type": "markdown",
   "id": "9add59c0",
   "metadata": {},
   "source": [
    "## Levels of Learning\n",
    "\n",
    "![Revised Bloom](https://i0.wp.com/tigerlearn.fhsu.edu/wp-content/uploads/blooms-taxonomy-1.jpg?ssl=1)\n",
    "\n",
    "1. How we (perhaps) learn\n",
    "1. How machines (do not) learn\n",
    "1. But most importantly where that leaves us as students\n"
   ]
  },
  {
   "cell_type": "markdown",
   "id": "4fe812dc",
   "metadata": {},
   "source": [
    "## Back to Python\n",
    "\n",
    "Three fundamental data structures\n"
   ]
  },
  {
   "cell_type": "code",
   "execution_count": 133,
   "id": "b6f542e4",
   "metadata": {},
   "outputs": [],
   "source": [
    "list1 = [100, \"hello\", 4.09, [\"me280\", \"280x\"]]\n",
    "dict1 = {4: \"hey\", 5: \"bye\", \"one\": 1, \"two\": 2}\n",
    "tuple1 = (100, \"hello\", 4.09, [\"me280\", \"280x\"])"
   ]
  },
  {
   "cell_type": "code",
   "execution_count": 134,
   "id": "f8fc4e00",
   "metadata": {},
   "outputs": [
    {
     "name": "stdout",
     "output_type": "stream",
     "text": [
      "['me280', '280x']\n"
     ]
    }
   ],
   "source": [
    "print(list1[-1])"
   ]
  },
  {
   "cell_type": "code",
   "execution_count": 135,
   "id": "340b554c",
   "metadata": {},
   "outputs": [
    {
     "name": "stdout",
     "output_type": "stream",
     "text": [
      "me280\n"
     ]
    }
   ],
   "source": [
    "print(list1[-1][0])"
   ]
  },
  {
   "cell_type": "code",
   "execution_count": 136,
   "id": "0b5bc768",
   "metadata": {},
   "outputs": [
    {
     "name": "stdout",
     "output_type": "stream",
     "text": [
      "1\n"
     ]
    }
   ],
   "source": [
    "print(dict1[\"one\"])"
   ]
  },
  {
   "cell_type": "code",
   "execution_count": 137,
   "id": "c01788c2",
   "metadata": {},
   "outputs": [
    {
     "name": "stdout",
     "output_type": "stream",
     "text": [
      "(100, 'hello', 4.09, ['me280', '280x'])\n"
     ]
    }
   ],
   "source": [
    "print(tuple1)"
   ]
  },
  {
   "cell_type": "code",
   "execution_count": 138,
   "id": "b509d521",
   "metadata": {},
   "outputs": [],
   "source": [
    "list1.append(\"bye\")"
   ]
  },
  {
   "cell_type": "code",
   "execution_count": 139,
   "id": "d96eb065",
   "metadata": {},
   "outputs": [
    {
     "name": "stdout",
     "output_type": "stream",
     "text": [
      "[100, 'hello', 4.09, ['me280', '280x'], 'bye']\n"
     ]
    }
   ],
   "source": [
    "print(list1)"
   ]
  },
  {
   "cell_type": "code",
   "execution_count": 140,
   "id": "51e05ce5",
   "metadata": {},
   "outputs": [],
   "source": [
    "# tuple1.append(\"bye\")"
   ]
  },
  {
   "cell_type": "markdown",
   "id": "b1f196b8",
   "metadata": {},
   "source": [
    "Iterating through data structures and some conditionals.\n"
   ]
  },
  {
   "cell_type": "code",
   "execution_count": 141,
   "id": "dee74813",
   "metadata": {
    "scrolled": true
   },
   "outputs": [
    {
     "name": "stdout",
     "output_type": "stream",
     "text": [
      "The iterable i is equal to:  5\n",
      "j is:  2\n",
      "we made it inside the if statement!!!\n",
      "back in the main loop over i\n",
      "The iterable i is equal to:  7\n",
      "j is:  2\n",
      "we made it inside the if statement!!!\n",
      "back in the main loop over i\n",
      "The iterable i is equal to:  9\n",
      "j is:  2\n",
      "we made it inside the if statement!!!\n",
      "back in the main loop over i\n",
      "The iterable i is equal to:  11\n",
      "j is:  2\n",
      "we made it inside the if statement!!!\n",
      "back in the main loop over i\n",
      "The iterable i is equal to:  13\n",
      "j is:  2\n",
      "we made it inside the if statement!!!\n",
      "back in the main loop over i\n",
      "After everything, i is equal to:  13\n"
     ]
    }
   ],
   "source": [
    "for i in range(5, 15, 2):\n",
    "    print(\"The iterable i is equal to: \", i)\n",
    "    for j in range(1, 4, 1):\n",
    "        if j == 2:\n",
    "            print(\"j is: \", j)\n",
    "            print(\"we made it inside the if statement!!!\")\n",
    "    print(\"back in the main loop over i\")\n",
    "print(\"After everything, i is equal to: \", i)"
   ]
  },
  {
   "cell_type": "markdown",
   "id": "f96b1cec",
   "metadata": {},
   "source": [
    "Several ways to _build_ sets and so forth.\n"
   ]
  },
  {
   "cell_type": "code",
   "execution_count": 142,
   "id": "9cc4c86f",
   "metadata": {},
   "outputs": [
    {
     "name": "stdout",
     "output_type": "stream",
     "text": [
      "range(0, 10)\n"
     ]
    }
   ],
   "source": [
    "print(range(10))"
   ]
  },
  {
   "cell_type": "code",
   "execution_count": 143,
   "id": "77139152",
   "metadata": {},
   "outputs": [],
   "source": [
    "a = [*range(10)]"
   ]
  },
  {
   "cell_type": "code",
   "execution_count": 144,
   "id": "8aded993",
   "metadata": {},
   "outputs": [
    {
     "name": "stdout",
     "output_type": "stream",
     "text": [
      "[0, 1, 2, 3, 4, 5, 6, 7, 8, 9]\n"
     ]
    }
   ],
   "source": [
    "print(a)"
   ]
  },
  {
   "cell_type": "markdown",
   "id": "c694223f",
   "metadata": {},
   "source": [
    "## Comprehension\n",
    "\n",
    "Look up [set builder notation](https://en.wikipedia.org/wiki/Set-builder_notation) and Python (and other languages) has/have a syntax for doing something similar.\n"
   ]
  },
  {
   "cell_type": "code",
   "execution_count": 145,
   "id": "b4d13e8d",
   "metadata": {},
   "outputs": [
    {
     "name": "stdout",
     "output_type": "stream",
     "text": [
      "index is  0 , and the datum is  100\n",
      "index is  1 , and the datum is  hello\n",
      "index is  2 , and the datum is  4.09\n",
      "index is  3 , and the datum is  ['me280', '280x']\n",
      "index is  4 , and the datum is  bye\n"
     ]
    }
   ],
   "source": [
    "for idx, item in enumerate(list1):\n",
    "    print(\"index is \", idx, \", and the datum is \", item)"
   ]
  },
  {
   "cell_type": "code",
   "execution_count": 146,
   "id": "7f38e179",
   "metadata": {},
   "outputs": [],
   "source": [
    "list2 = [(idx, item) for idx, item in enumerate(list1)]"
   ]
  },
  {
   "cell_type": "code",
   "execution_count": 147,
   "id": "19c72765",
   "metadata": {},
   "outputs": [
    {
     "name": "stdout",
     "output_type": "stream",
     "text": [
      "[(0, 100), (1, 'hello'), (2, 4.09), (3, ['me280', '280x']), (4, 'bye')]\n"
     ]
    }
   ],
   "source": [
    "print(list2)"
   ]
  },
  {
   "cell_type": "code",
   "execution_count": 148,
   "id": "7ffe6231",
   "metadata": {},
   "outputs": [
    {
     "name": "stdout",
     "output_type": "stream",
     "text": [
      "<class 'dict'>\n"
     ]
    }
   ],
   "source": [
    "print(type(dict1))"
   ]
  },
  {
   "cell_type": "code",
   "execution_count": 149,
   "id": "7c2f4700",
   "metadata": {},
   "outputs": [
    {
     "name": "stdout",
     "output_type": "stream",
     "text": [
      "The key is  4\n",
      "The key is  5\n",
      "The key is  one\n",
      "The key is  two\n"
     ]
    }
   ],
   "source": [
    "for key in dict1.keys():\n",
    "    print(\"The key is \", key)"
   ]
  },
  {
   "cell_type": "code",
   "execution_count": 150,
   "id": "d744cb6f",
   "metadata": {},
   "outputs": [],
   "source": [
    "list = []"
   ]
  },
  {
   "cell_type": "code",
   "execution_count": 151,
   "id": "f5e2b7fc",
   "metadata": {},
   "outputs": [],
   "source": [
    "list2 = [item for item in list1 if type(item) == type([1])]"
   ]
  },
  {
   "cell_type": "code",
   "execution_count": 152,
   "id": "5647b760",
   "metadata": {},
   "outputs": [
    {
     "name": "stdout",
     "output_type": "stream",
     "text": [
      "<class 'float'>\n"
     ]
    }
   ],
   "source": [
    "print(type(4.09))"
   ]
  },
  {
   "cell_type": "code",
   "execution_count": 153,
   "id": "870a3088",
   "metadata": {},
   "outputs": [
    {
     "name": "stdout",
     "output_type": "stream",
     "text": [
      "<class 'list'>\n"
     ]
    }
   ],
   "source": [
    "print(type(list2))"
   ]
  },
  {
   "cell_type": "code",
   "execution_count": 154,
   "id": "a667ee96",
   "metadata": {},
   "outputs": [
    {
     "name": "stdout",
     "output_type": "stream",
     "text": [
      "[['me280', '280x']]\n"
     ]
    }
   ],
   "source": [
    "print(list2)"
   ]
  },
  {
   "cell_type": "code",
   "execution_count": 155,
   "id": "14fb3904",
   "metadata": {},
   "outputs": [
    {
     "name": "stdout",
     "output_type": "stream",
     "text": [
      "dict_values(['hey', 'bye', 1, 2])\n"
     ]
    }
   ],
   "source": [
    "print(dict1.values())"
   ]
  },
  {
   "cell_type": "code",
   "execution_count": 156,
   "id": "37a1174f",
   "metadata": {},
   "outputs": [
    {
     "name": "stdout",
     "output_type": "stream",
     "text": [
      "[100, 'hello', 4.09, ['me280', '280x'], 'bye']\n"
     ]
    }
   ],
   "source": [
    "print(list1)"
   ]
  },
  {
   "cell_type": "code",
   "execution_count": 157,
   "id": "d42d4967",
   "metadata": {},
   "outputs": [],
   "source": [
    "list2 = list1[:2]"
   ]
  },
  {
   "cell_type": "code",
   "execution_count": 158,
   "id": "92f1fb04",
   "metadata": {},
   "outputs": [
    {
     "name": "stdout",
     "output_type": "stream",
     "text": [
      "100 100\n",
      "hello hello\n"
     ]
    }
   ],
   "source": [
    "for a, b in zip(list1, list2):\n",
    "    print(a, b)"
   ]
  },
  {
   "cell_type": "code",
   "execution_count": 159,
   "id": "b0d7ac6b",
   "metadata": {},
   "outputs": [],
   "source": [
    "a = 4\n",
    "b = 5\n",
    "# print(list(range(a)), list(range(b)))"
   ]
  },
  {
   "cell_type": "code",
   "execution_count": 160,
   "id": "f7342cce",
   "metadata": {},
   "outputs": [
    {
     "name": "stdout",
     "output_type": "stream",
     "text": [
      "0 0\n",
      "1 1\n",
      "2 2\n",
      "3 3\n"
     ]
    }
   ],
   "source": [
    "for a_i, b_i in zip(range(a), range(b)):\n",
    "    print(a_i, b_i)"
   ]
  },
  {
   "cell_type": "code",
   "execution_count": null,
   "id": "543659f2",
   "metadata": {},
   "outputs": [],
   "source": []
  }
 ],
 "metadata": {
  "kernelspec": {
   "display_name": "Python 3",
   "language": "python",
   "name": "python3"
  },
  "language_info": {
   "codemirror_mode": {
    "name": "ipython",
    "version": 3
   },
   "file_extension": ".py",
   "mimetype": "text/x-python",
   "name": "python",
   "nbconvert_exporter": "python",
   "pygments_lexer": "ipython3",
   "version": "3.12.10"
  }
 },
 "nbformat": 4,
 "nbformat_minor": 5
}
